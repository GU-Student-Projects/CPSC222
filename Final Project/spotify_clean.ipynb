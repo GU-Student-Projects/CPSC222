{
 "cells": [
  {
   "cell_type": "code",
   "execution_count": 1,
   "metadata": {},
   "outputs": [
    {
     "data": {
      "text/html": [
       "<div>\n",
       "<style scoped>\n",
       "    .dataframe tbody tr th:only-of-type {\n",
       "        vertical-align: middle;\n",
       "    }\n",
       "\n",
       "    .dataframe tbody tr th {\n",
       "        vertical-align: top;\n",
       "    }\n",
       "\n",
       "    .dataframe thead th {\n",
       "        text-align: right;\n",
       "    }\n",
       "</style>\n",
       "<table border=\"1\" class=\"dataframe\">\n",
       "  <thead>\n",
       "    <tr style=\"text-align: right;\">\n",
       "      <th></th>\n",
       "      <th>albumName</th>\n",
       "      <th>artistName</th>\n",
       "      <th>trackName</th>\n",
       "      <th>trackUri</th>\n",
       "      <th>playlists.name</th>\n",
       "    </tr>\n",
       "  </thead>\n",
       "  <tbody>\n",
       "    <tr>\n",
       "      <th>0</th>\n",
       "      <td>...Like Clockwork</td>\n",
       "      <td>Queens of the Stone Age</td>\n",
       "      <td>I Sat by the Ocean</td>\n",
       "      <td>spotify:track:1D3YGmST01Ba0WRiT7THPG</td>\n",
       "      <td>The Knew</td>\n",
       "    </tr>\n",
       "    <tr>\n",
       "      <th>1</th>\n",
       "      <td>¡DOS!</td>\n",
       "      <td>Green Day</td>\n",
       "      <td>Stray Heart</td>\n",
       "      <td>spotify:track:2Q22sa3Y4lKXHHBBAxEhYY</td>\n",
       "      <td>Missing Her</td>\n",
       "    </tr>\n",
       "    <tr>\n",
       "      <th>2</th>\n",
       "      <td>¡DOS!</td>\n",
       "      <td>Green Day</td>\n",
       "      <td>Stray Heart</td>\n",
       "      <td>spotify:track:2Q22sa3Y4lKXHHBBAxEhYY</td>\n",
       "      <td>Perfect Playlist Pt 2</td>\n",
       "    </tr>\n",
       "    <tr>\n",
       "      <th>3</th>\n",
       "      <td>¡UNO!</td>\n",
       "      <td>Green Day</td>\n",
       "      <td>Nuclear Family</td>\n",
       "      <td>spotify:track:206n37mZTmloL45RYhmMlP</td>\n",
       "      <td>Missing Her</td>\n",
       "    </tr>\n",
       "    <tr>\n",
       "      <th>4</th>\n",
       "      <td>¡UNO!</td>\n",
       "      <td>Green Day</td>\n",
       "      <td>Nuclear Family</td>\n",
       "      <td>spotify:track:206n37mZTmloL45RYhmMlP</td>\n",
       "      <td>Rock Paper Scissors</td>\n",
       "    </tr>\n",
       "  </tbody>\n",
       "</table>\n",
       "</div>"
      ],
      "text/plain": [
       "           albumName               artistName           trackName  \\\n",
       "0  ...Like Clockwork  Queens of the Stone Age  I Sat by the Ocean   \n",
       "1              ¡DOS!                Green Day         Stray Heart   \n",
       "2              ¡DOS!                Green Day         Stray Heart   \n",
       "3              ¡UNO!                Green Day      Nuclear Family   \n",
       "4              ¡UNO!                Green Day      Nuclear Family   \n",
       "\n",
       "                               trackUri         playlists.name  \n",
       "0  spotify:track:1D3YGmST01Ba0WRiT7THPG               The Knew  \n",
       "1  spotify:track:2Q22sa3Y4lKXHHBBAxEhYY            Missing Her  \n",
       "2  spotify:track:2Q22sa3Y4lKXHHBBAxEhYY  Perfect Playlist Pt 2  \n",
       "3  spotify:track:206n37mZTmloL45RYhmMlP            Missing Her  \n",
       "4  spotify:track:206n37mZTmloL45RYhmMlP    Rock Paper Scissors  "
      ]
     },
     "execution_count": 1,
     "metadata": {},
     "output_type": "execute_result"
    }
   ],
   "source": [
    "import pandas as pd\n",
    "\n",
    "playlist_data = pd.read_csv('./spotify_data/playlistCSV.csv', header=0)\n",
    "streaming_history = pd.read_csv('./spotify_data/streamingHistoryCSV.csv', header=0)\n",
    "playlist_data.head()"
   ]
  },
  {
   "cell_type": "code",
   "execution_count": 2,
   "metadata": {},
   "outputs": [],
   "source": [
    "merged_dataset = streaming_history.merge(playlist_data, on='trackName',)\n",
    "merged_dataset.to_csv('./cleaned_data/mergedSpotifyData.csv', index=False)"
   ]
  }
 ],
 "metadata": {
  "kernelspec": {
   "display_name": "datascience",
   "language": "python",
   "name": "python3"
  },
  "language_info": {
   "codemirror_mode": {
    "name": "ipython",
    "version": 3
   },
   "file_extension": ".py",
   "mimetype": "text/x-python",
   "name": "python",
   "nbconvert_exporter": "python",
   "pygments_lexer": "ipython3",
   "version": "3.10.13"
  },
  "orig_nbformat": 4
 },
 "nbformat": 4,
 "nbformat_minor": 2
}
