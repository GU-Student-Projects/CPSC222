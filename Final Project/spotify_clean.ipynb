{
 "cells": [
  {
   "cell_type": "code",
   "execution_count": 1,
   "metadata": {},
   "outputs": [
    {
     "data": {
      "text/html": [
       "<div>\n",
       "<style scoped>\n",
       "    .dataframe tbody tr th:only-of-type {\n",
       "        vertical-align: middle;\n",
       "    }\n",
       "\n",
       "    .dataframe tbody tr th {\n",
       "        vertical-align: top;\n",
       "    }\n",
       "\n",
       "    .dataframe thead th {\n",
       "        text-align: right;\n",
       "    }\n",
       "</style>\n",
       "<table border=\"1\" class=\"dataframe\">\n",
       "  <thead>\n",
       "    <tr style=\"text-align: right;\">\n",
       "      <th></th>\n",
       "      <th>albumName</th>\n",
       "      <th>artistName</th>\n",
       "      <th>trackName</th>\n",
       "      <th>trackUri</th>\n",
       "      <th>playlists.name</th>\n",
       "    </tr>\n",
       "  </thead>\n",
       "  <tbody>\n",
       "    <tr>\n",
       "      <th>0</th>\n",
       "      <td>...Like Clockwork</td>\n",
       "      <td>Queens of the Stone Age</td>\n",
       "      <td>I Sat by the Ocean</td>\n",
       "      <td>spotify:track:1D3YGmST01Ba0WRiT7THPG</td>\n",
       "      <td>The Knew</td>\n",
       "    </tr>\n",
       "    <tr>\n",
       "      <th>1</th>\n",
       "      <td>¡DOS!</td>\n",
       "      <td>Green Day</td>\n",
       "      <td>Stray Heart</td>\n",
       "      <td>spotify:track:2Q22sa3Y4lKXHHBBAxEhYY</td>\n",
       "      <td>Missing Her</td>\n",
       "    </tr>\n",
       "    <tr>\n",
       "      <th>2</th>\n",
       "      <td>¡DOS!</td>\n",
       "      <td>Green Day</td>\n",
       "      <td>Stray Heart</td>\n",
       "      <td>spotify:track:2Q22sa3Y4lKXHHBBAxEhYY</td>\n",
       "      <td>Perfect Playlist Pt 2</td>\n",
       "    </tr>\n",
       "    <tr>\n",
       "      <th>3</th>\n",
       "      <td>¡UNO!</td>\n",
       "      <td>Green Day</td>\n",
       "      <td>Nuclear Family</td>\n",
       "      <td>spotify:track:206n37mZTmloL45RYhmMlP</td>\n",
       "      <td>Missing Her</td>\n",
       "    </tr>\n",
       "    <tr>\n",
       "      <th>4</th>\n",
       "      <td>¡UNO!</td>\n",
       "      <td>Green Day</td>\n",
       "      <td>Nuclear Family</td>\n",
       "      <td>spotify:track:206n37mZTmloL45RYhmMlP</td>\n",
       "      <td>Rock Paper Scissors</td>\n",
       "    </tr>\n",
       "  </tbody>\n",
       "</table>\n",
       "</div>"
      ],
      "text/plain": [
       "           albumName               artistName           trackName  \\\n",
       "0  ...Like Clockwork  Queens of the Stone Age  I Sat by the Ocean   \n",
       "1              ¡DOS!                Green Day         Stray Heart   \n",
       "2              ¡DOS!                Green Day         Stray Heart   \n",
       "3              ¡UNO!                Green Day      Nuclear Family   \n",
       "4              ¡UNO!                Green Day      Nuclear Family   \n",
       "\n",
       "                               trackUri         playlists.name  \n",
       "0  spotify:track:1D3YGmST01Ba0WRiT7THPG               The Knew  \n",
       "1  spotify:track:2Q22sa3Y4lKXHHBBAxEhYY            Missing Her  \n",
       "2  spotify:track:2Q22sa3Y4lKXHHBBAxEhYY  Perfect Playlist Pt 2  \n",
       "3  spotify:track:206n37mZTmloL45RYhmMlP            Missing Her  \n",
       "4  spotify:track:206n37mZTmloL45RYhmMlP    Rock Paper Scissors  "
      ]
     },
     "execution_count": 1,
     "metadata": {},
     "output_type": "execute_result"
    }
   ],
   "source": [
    "import pandas as pd\n",
    "\n",
    "playlist_data = pd.read_csv('./spotify_data/playlistCSV.csv', header=0)\n",
    "streaming_history = pd.read_csv('./spotify_data/streamingHistoryCSV.csv', header=0)\n",
    "playlist_data.head()"
   ]
  },
  {
   "cell_type": "code",
   "execution_count": 2,
   "metadata": {},
   "outputs": [],
   "source": [
    "merged_dataset = streaming_history.merge(playlist_data, on='trackName',)\n",
    "merged_dataset['time'] = merged_dataset['time'].str.split(' ').str[1]\n",
    "merged_dataset['track_id'] = merged_dataset['trackUri'].str.split('track:').str[1]\n"
   ]
  },
  {
   "cell_type": "code",
   "execution_count": 3,
   "metadata": {},
   "outputs": [],
   "source": [
    "def month_to_int(value):\n",
    "    if value == 'June':\n",
    "        return 6\n",
    "    elif value == 'July':\n",
    "        return 7\n",
    "    elif value == 'August':\n",
    "        return 8\n",
    "    else:\n",
    "        return 9"
   ]
  },
  {
   "cell_type": "code",
   "execution_count": 4,
   "metadata": {},
   "outputs": [],
   "source": [
    "merged_dataset['Month'] = merged_dataset['Month'].apply(month_to_int)"
   ]
  },
  {
   "cell_type": "code",
   "execution_count": 7,
   "metadata": {},
   "outputs": [],
   "source": [
    "merged_dataset['date'] = merged_dataset['Month'].astype(str) + '-' + merged_dataset['Day'].astype(str) + '-' + merged_dataset['Year'].astype(str)\n",
    "date_format = '%m-%d-%Y'\n",
    "merged_dataset['date'] = pd.to_datetime(merged_dataset['date'], format=date_format)\n",
    "merged_dataset['hour'] = merged_dataset['time'].str.split(':').str[0]\n",
    "#merged_dataset.to_csv('./cleaned_data/mergedSpotifyData.csv', index=False)"
   ]
  },
  {
   "cell_type": "code",
   "execution_count": 5,
   "metadata": {},
   "outputs": [],
   "source": [
    "import spotipy\n",
    "from spotipy.oauth2 import SpotifyClientCredentials\n",
    "import time\n",
    "\n",
    "client_id = '3811b236a5dd410e9f8bb2321bbdef9f'\n",
    "client_secret = '5daa963dee6d41dd820c8d2a776c1fcc'\n",
    "client_credentials_manager = SpotifyClientCredentials(client_id=client_id, client_secret=client_secret)\n",
    "sp = spotipy.Spotify(client_credentials_manager=client_credentials_manager)"
   ]
  },
  {
   "cell_type": "code",
   "execution_count": 9,
   "metadata": {},
   "outputs": [
    {
     "name": "stdout",
     "output_type": "stream",
     "text": [
      "[{'danceability': 0.728, 'energy': 0.448, 'key': 8, 'loudness': -10.54, 'mode': 1, 'speechiness': 0.172, 'acousticness': 0.103, 'instrumentalness': 0, 'liveness': 0.267, 'valence': 0.483, 'tempo': 80.902, 'type': 'audio_features', 'id': '5r96TaQquRrlo3Ym3ZlSL2', 'uri': 'spotify:track:5r96TaQquRrlo3Ym3ZlSL2', 'track_href': 'https://api.spotify.com/v1/tracks/5r96TaQquRrlo3Ym3ZlSL2', 'analysis_url': 'https://api.spotify.com/v1/audio-analysis/5r96TaQquRrlo3Ym3ZlSL2', 'duration_ms': 202920, 'time_signature': 4}]\n",
      "[{'danceability': 0.728, 'energy': 0.448, 'key': 8, 'loudness': -10.54, 'mode': 1, 'speechiness': 0.172, 'acousticness': 0.103, 'instrumentalness': 0, 'liveness': 0.267, 'valence': 0.483, 'tempo': 80.902, 'type': 'audio_features', 'id': '5r96TaQquRrlo3Ym3ZlSL2', 'uri': 'spotify:track:5r96TaQquRrlo3Ym3ZlSL2', 'track_href': 'https://api.spotify.com/v1/tracks/5r96TaQquRrlo3Ym3ZlSL2', 'analysis_url': 'https://api.spotify.com/v1/audio-analysis/5r96TaQquRrlo3Ym3ZlSL2', 'duration_ms': 202920, 'time_signature': 4}]\n"
     ]
    },
    {
     "ename": "KeyboardInterrupt",
     "evalue": "",
     "output_type": "error",
     "traceback": [
      "\u001b[0;31m---------------------------------------------------------------------------\u001b[0m",
      "\u001b[0;31mKeyboardInterrupt\u001b[0m                         Traceback (most recent call last)",
      "\u001b[1;32m/home/gdimartino/Documents/vscode/CPSC222/Final Project/spotify_clean.ipynb Cell 5\u001b[0m line \u001b[0;36m<cell line: 4>\u001b[0;34m()\u001b[0m\n\u001b[1;32m      <a href='vscode-notebook-cell:/home/gdimartino/Documents/vscode/CPSC222/Final%20Project/spotify_clean.ipynb#W4sZmlsZQ%3D%3D?line=5'>6</a>\u001b[0m api_dataset \u001b[39m=\u001b[39m pd\u001b[39m.\u001b[39mDataFrame(audio_features)\n\u001b[1;32m      <a href='vscode-notebook-cell:/home/gdimartino/Documents/vscode/CPSC222/Final%20Project/spotify_clean.ipynb#W4sZmlsZQ%3D%3D?line=6'>7</a>\u001b[0m \u001b[39mprint\u001b[39m(audio_features)\n\u001b[0;32m----> <a href='vscode-notebook-cell:/home/gdimartino/Documents/vscode/CPSC222/Final%20Project/spotify_clean.ipynb#W4sZmlsZQ%3D%3D?line=8'>9</a>\u001b[0m time\u001b[39m.\u001b[39;49msleep(\u001b[39m30\u001b[39;49m)\n\u001b[1;32m     <a href='vscode-notebook-cell:/home/gdimartino/Documents/vscode/CPSC222/Final%20Project/spotify_clean.ipynb#W4sZmlsZQ%3D%3D?line=10'>11</a>\u001b[0m \u001b[39mif\u001b[39;00m index \u001b[39m%\u001b[39m requests_per_minute \u001b[39m==\u001b[39m \u001b[39m0\u001b[39m \u001b[39mand\u001b[39;00m index \u001b[39m!=\u001b[39m \u001b[39m0\u001b[39m:\n\u001b[1;32m     <a href='vscode-notebook-cell:/home/gdimartino/Documents/vscode/CPSC222/Final%20Project/spotify_clean.ipynb#W4sZmlsZQ%3D%3D?line=11'>12</a>\u001b[0m     time_to_sleep \u001b[39m=\u001b[39m \u001b[39m60\u001b[39m\n",
      "\u001b[0;31mKeyboardInterrupt\u001b[0m: "
     ]
    }
   ],
   "source": [
    "requests_per_minute = 150\n",
    "requests_per_hour = 9000\n",
    "\n",
    "for index, track_uri in enumerate(merged_dataset['trackUri']):\n",
    "    audio_features = sp.audio_features(track_uri)\n",
    "    api_dataset = pd.DataFrame(audio_features)\n",
    "    print(audio_features)\n",
    "\n",
    "    time.sleep(30)\n",
    "\n",
    "    if index % requests_per_minute == 0 and index != 0:\n",
    "        time_to_sleep = 60\n",
    "        time.sleep(time_to_sleep)\n",
    "        index = 0\n",
    "\n",
    "    if index % requests_per_hour == 0 and index != 0:\n",
    "        time_to_sleep = 3600\n",
    "        time.sleep(time_to_sleep)\n",
    "        index = 0"
   ]
  },
  {
   "cell_type": "code",
   "execution_count": 10,
   "metadata": {},
   "outputs": [],
   "source": [
    "columns_to_drop = ['analysis_url','track_href','type','uri']\n",
    "api_dataset.drop(columns_to_drop, axis=1,inplace=True)\n",
    "api_dataset.rename(columns={'id': 'track_id'}, inplace=True)\n"
   ]
  },
  {
   "cell_type": "code",
   "execution_count": 12,
   "metadata": {},
   "outputs": [],
   "source": [
    "spotify_dataset = merged_dataset.merge(api_dataset, on='track_id')\n",
    "columns_to_drop = ['trackUri','Sum of msPlayed','artistName_x']\n",
    "spotify_dataset.drop(columns_to_drop, axis=1,inplace=True)\n",
    "spotify_dataset.rename(columns={'artistName_y': 'artistName'}, inplace=True)\n",
    "spotify_dataset.to_csv('apiData.csv', index=False)"
   ]
  }
 ],
 "metadata": {
  "kernelspec": {
   "display_name": "datascience",
   "language": "python",
   "name": "python3"
  },
  "language_info": {
   "codemirror_mode": {
    "name": "ipython",
    "version": 3
   },
   "file_extension": ".py",
   "mimetype": "text/x-python",
   "name": "python",
   "nbconvert_exporter": "python",
   "pygments_lexer": "ipython3",
   "version": "3.10.13"
  },
  "orig_nbformat": 4
 },
 "nbformat": 4,
 "nbformat_minor": 2
}
