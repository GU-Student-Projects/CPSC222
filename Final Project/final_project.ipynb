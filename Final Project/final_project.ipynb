{
 "cells": [
  {
   "cell_type": "code",
   "execution_count": 1,
   "metadata": {},
   "outputs": [],
   "source": [
    "import pandas as pd\n",
    "dataset_spotify = pd.read_csv('data.csv', header=0)\n",
    "dataset_weather_alexandria = pd.read_csv('alexandria.csv', header=0)"
   ]
  },
  {
   "cell_type": "code",
   "execution_count": 2,
   "metadata": {},
   "outputs": [],
   "source": [
    "merged_dataset = dataset_spotify.merge(dataset_weather_alexandria, on='date',)\n",
    "merged_dataset.to_csv('./cleaned_data/merged.csv', index=False)"
   ]
  },
  {
   "cell_type": "code",
   "execution_count": 3,
   "metadata": {},
   "outputs": [],
   "source": [
    "def binary_precipitation(value):\n",
    "    if value != 0:\n",
    "        return 1\n",
    "    else:\n",
    "        return 0\n"
   ]
  },
  {
   "cell_type": "markdown",
   "metadata": {},
   "source": [
    "Convert all raining values into a binary, \"Is raining\" or not"
   ]
  },
  {
   "cell_type": "code",
   "execution_count": 4,
   "metadata": {},
   "outputs": [],
   "source": [
    "merged_dataset['precipcover'] = merged_dataset['precipcover'].apply(binary_precipitation)\n"
   ]
  },
  {
   "cell_type": "code",
   "execution_count": 17,
   "metadata": {},
   "outputs": [
    {
     "data": {
      "text/html": [
       "<div>\n",
       "<style scoped>\n",
       "    .dataframe tbody tr th:only-of-type {\n",
       "        vertical-align: middle;\n",
       "    }\n",
       "\n",
       "    .dataframe tbody tr th {\n",
       "        vertical-align: top;\n",
       "    }\n",
       "\n",
       "    .dataframe thead th {\n",
       "        text-align: right;\n",
       "    }\n",
       "</style>\n",
       "<table border=\"1\" class=\"dataframe\">\n",
       "  <thead>\n",
       "    <tr style=\"text-align: right;\">\n",
       "      <th></th>\n",
       "      <th>danceability</th>\n",
       "      <th>energy</th>\n",
       "      <th>key</th>\n",
       "      <th>loudness</th>\n",
       "      <th>mode</th>\n",
       "      <th>speechiness</th>\n",
       "      <th>acousticness</th>\n",
       "      <th>instrumentalness</th>\n",
       "      <th>liveness</th>\n",
       "      <th>valence</th>\n",
       "      <th>tempo</th>\n",
       "      <th>duration_ms</th>\n",
       "      <th>time_signature</th>\n",
       "      <th>neg</th>\n",
       "      <th>neu</th>\n",
       "      <th>pos</th>\n",
       "    </tr>\n",
       "  </thead>\n",
       "  <tbody>\n",
       "    <tr>\n",
       "      <th>0</th>\n",
       "      <td>0.418</td>\n",
       "      <td>0.794</td>\n",
       "      <td>11</td>\n",
       "      <td>-4.973</td>\n",
       "      <td>1</td>\n",
       "      <td>0.0816</td>\n",
       "      <td>0.080</td>\n",
       "      <td>0.000000</td>\n",
       "      <td>0.3290</td>\n",
       "      <td>0.178</td>\n",
       "      <td>129.434</td>\n",
       "      <td>241846</td>\n",
       "      <td>4</td>\n",
       "      <td>0.199</td>\n",
       "      <td>0.584</td>\n",
       "      <td>0.216</td>\n",
       "    </tr>\n",
       "    <tr>\n",
       "      <th>1</th>\n",
       "      <td>0.418</td>\n",
       "      <td>0.794</td>\n",
       "      <td>11</td>\n",
       "      <td>-4.973</td>\n",
       "      <td>1</td>\n",
       "      <td>0.0816</td>\n",
       "      <td>0.080</td>\n",
       "      <td>0.000000</td>\n",
       "      <td>0.3290</td>\n",
       "      <td>0.178</td>\n",
       "      <td>129.434</td>\n",
       "      <td>241846</td>\n",
       "      <td>4</td>\n",
       "      <td>0.199</td>\n",
       "      <td>0.584</td>\n",
       "      <td>0.216</td>\n",
       "    </tr>\n",
       "    <tr>\n",
       "      <th>2</th>\n",
       "      <td>0.658</td>\n",
       "      <td>0.294</td>\n",
       "      <td>4</td>\n",
       "      <td>-8.533</td>\n",
       "      <td>0</td>\n",
       "      <td>0.0321</td>\n",
       "      <td>0.422</td>\n",
       "      <td>0.000052</td>\n",
       "      <td>0.0749</td>\n",
       "      <td>0.358</td>\n",
       "      <td>74.038</td>\n",
       "      <td>278180</td>\n",
       "      <td>4</td>\n",
       "      <td>0.038</td>\n",
       "      <td>0.836</td>\n",
       "      <td>0.125</td>\n",
       "    </tr>\n",
       "    <tr>\n",
       "      <th>3</th>\n",
       "      <td>0.658</td>\n",
       "      <td>0.294</td>\n",
       "      <td>4</td>\n",
       "      <td>-8.533</td>\n",
       "      <td>0</td>\n",
       "      <td>0.0321</td>\n",
       "      <td>0.422</td>\n",
       "      <td>0.000052</td>\n",
       "      <td>0.0749</td>\n",
       "      <td>0.358</td>\n",
       "      <td>74.038</td>\n",
       "      <td>278180</td>\n",
       "      <td>4</td>\n",
       "      <td>0.038</td>\n",
       "      <td>0.836</td>\n",
       "      <td>0.125</td>\n",
       "    </tr>\n",
       "    <tr>\n",
       "      <th>4</th>\n",
       "      <td>0.424</td>\n",
       "      <td>0.606</td>\n",
       "      <td>6</td>\n",
       "      <td>-6.062</td>\n",
       "      <td>0</td>\n",
       "      <td>0.1590</td>\n",
       "      <td>0.106</td>\n",
       "      <td>0.000272</td>\n",
       "      <td>0.1440</td>\n",
       "      <td>0.397</td>\n",
       "      <td>213.788</td>\n",
       "      <td>342244</td>\n",
       "      <td>4</td>\n",
       "      <td>0.000</td>\n",
       "      <td>0.000</td>\n",
       "      <td>0.000</td>\n",
       "    </tr>\n",
       "  </tbody>\n",
       "</table>\n",
       "</div>"
      ],
      "text/plain": [
       "   danceability  energy  key  loudness  mode  speechiness  acousticness  \\\n",
       "0         0.418   0.794   11    -4.973     1       0.0816         0.080   \n",
       "1         0.418   0.794   11    -4.973     1       0.0816         0.080   \n",
       "2         0.658   0.294    4    -8.533     0       0.0321         0.422   \n",
       "3         0.658   0.294    4    -8.533     0       0.0321         0.422   \n",
       "4         0.424   0.606    6    -6.062     0       0.1590         0.106   \n",
       "\n",
       "   instrumentalness  liveness  valence    tempo  duration_ms  time_signature  \\\n",
       "0          0.000000    0.3290    0.178  129.434       241846               4   \n",
       "1          0.000000    0.3290    0.178  129.434       241846               4   \n",
       "2          0.000052    0.0749    0.358   74.038       278180               4   \n",
       "3          0.000052    0.0749    0.358   74.038       278180               4   \n",
       "4          0.000272    0.1440    0.397  213.788       342244               4   \n",
       "\n",
       "     neg    neu    pos  \n",
       "0  0.199  0.584  0.216  \n",
       "1  0.199  0.584  0.216  \n",
       "2  0.038  0.836  0.125  \n",
       "3  0.038  0.836  0.125  \n",
       "4  0.000  0.000  0.000  "
      ]
     },
     "execution_count": 17,
     "metadata": {},
     "output_type": "execute_result"
    }
   ],
   "source": [
    "x = merged_dataset.drop(columns=['track_id','playlist_id','date','id','compound','name','tempmax','tempmin','temp','feelslikemax','feelslikemin','feelslike','dew','humidity','precip','precipprob','precipcover','preciptype','snow','snowdepth','windgust','windspeed','winddir','sealevelpressure','cloudcover','visibility','solarradiation','solarenergy','uvindex','severerisk','sunrise','sunset','moonphase','conditions','description','icon','stations'])\n",
    "y = merged_dataset['precipcover']\n",
    "x. fillna(0,inplace=True)\n",
    "\n",
    "x.to_csv('./cleaned_data/cleaned.csv', index=False)\n",
    "x.head()"
   ]
  },
  {
   "cell_type": "code",
   "execution_count": 18,
   "metadata": {},
   "outputs": [],
   "source": [
    "from sklearn.model_selection import train_test_split\n",
    "x_train, x_test, y_train, y_test = train_test_split(x, y, test_size=0.2)"
   ]
  },
  {
   "cell_type": "markdown",
   "metadata": {},
   "source": [
    "Using a decision tree classifier, I am able to predict if it is raining based on the type of music I am listening to."
   ]
  },
  {
   "cell_type": "code",
   "execution_count": 20,
   "metadata": {},
   "outputs": [],
   "source": [
    "from sklearn.tree import DecisionTreeClassifier\n",
    "tree = DecisionTreeClassifier()\n",
    "tree = tree.fit(x_train, y_train)\n",
    "y_pred = tree.predict(x_test)"
   ]
  },
  {
   "cell_type": "code",
   "execution_count": 21,
   "metadata": {},
   "outputs": [
    {
     "name": "stdout",
     "output_type": "stream",
     "text": [
      "Accuracy: 0.5725190839694656\n"
     ]
    }
   ],
   "source": [
    "from sklearn import metrics\n",
    "print(\"Accuracy:\",metrics.accuracy_score(y_test, y_pred))"
   ]
  },
  {
   "cell_type": "code",
   "execution_count": 22,
   "metadata": {},
   "outputs": [],
   "source": [
    "from sklearn.preprocessing import StandardScaler\n",
    "scaler = StandardScaler()\n",
    "x_train = scaler.fit_transform(x_train)\n",
    "x_test = scaler.transform(x_test)"
   ]
  },
  {
   "cell_type": "code",
   "execution_count": 23,
   "metadata": {},
   "outputs": [],
   "source": [
    "from sklearn.neighbors import KNeighborsClassifier\n",
    "knn = KNeighborsClassifier(n_neighbors=3)\n",
    "knn.fit(x_train, y_train)\n",
    "y_pred = knn.predict(x_test)"
   ]
  },
  {
   "cell_type": "code",
   "execution_count": 24,
   "metadata": {},
   "outputs": [
    {
     "name": "stdout",
     "output_type": "stream",
     "text": [
      "Accuracy: 0.6335877862595419\n"
     ]
    }
   ],
   "source": [
    "accuracy = metrics.accuracy_score(y_test, y_pred)\n",
    "print(\"Accuracy:\", accuracy)"
   ]
  }
 ],
 "metadata": {
  "kernelspec": {
   "display_name": "datascience",
   "language": "python",
   "name": "python3"
  },
  "language_info": {
   "codemirror_mode": {
    "name": "ipython",
    "version": 3
   },
   "file_extension": ".py",
   "mimetype": "text/x-python",
   "name": "python",
   "nbconvert_exporter": "python",
   "pygments_lexer": "ipython3",
   "version": "3.10.13"
  },
  "orig_nbformat": 4
 },
 "nbformat": 4,
 "nbformat_minor": 2
}
