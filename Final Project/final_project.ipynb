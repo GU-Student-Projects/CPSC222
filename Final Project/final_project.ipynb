{
 "cells": [
  {
   "cell_type": "code",
   "execution_count": 193,
   "metadata": {},
   "outputs": [],
   "source": [
    "import pandas as pd\n",
    "dataset_spotify = pd.read_csv('data.csv', header=0)\n",
    "dataset_weather_alexandria = pd.read_csv('alexandria.csv', header=0)"
   ]
  },
  {
   "cell_type": "code",
   "execution_count": 194,
   "metadata": {},
   "outputs": [],
   "source": [
    "merged_dataset = dataset_spotify.merge(dataset_weather_alexandria, on='date',)\n",
    "merged_dataset.to_csv('merged.csv', index=False)"
   ]
  },
  {
   "cell_type": "code",
   "execution_count": 195,
   "metadata": {},
   "outputs": [],
   "source": [
    "def binary_precipitation(value):\n",
    "    if value != 0:\n",
    "        return 1\n",
    "    else:\n",
    "        return 0\n"
   ]
  },
  {
   "cell_type": "code",
   "execution_count": 196,
   "metadata": {},
   "outputs": [],
   "source": [
    "merged_dataset['precipcover'] = merged_dataset['precipcover'].apply(binary_precipitation)\n"
   ]
  },
  {
   "cell_type": "code",
   "execution_count": 197,
   "metadata": {},
   "outputs": [
    {
     "data": {
      "text/html": [
       "<div>\n",
       "<style scoped>\n",
       "    .dataframe tbody tr th:only-of-type {\n",
       "        vertical-align: middle;\n",
       "    }\n",
       "\n",
       "    .dataframe tbody tr th {\n",
       "        vertical-align: top;\n",
       "    }\n",
       "\n",
       "    .dataframe thead th {\n",
       "        text-align: right;\n",
       "    }\n",
       "</style>\n",
       "<table border=\"1\" class=\"dataframe\">\n",
       "  <thead>\n",
       "    <tr style=\"text-align: right;\">\n",
       "      <th></th>\n",
       "      <th>tempmax</th>\n",
       "      <th>tempmin</th>\n",
       "      <th>temp</th>\n",
       "      <th>feelslikemax</th>\n",
       "      <th>feelslikemin</th>\n",
       "      <th>feelslike</th>\n",
       "      <th>dew</th>\n",
       "      <th>humidity</th>\n",
       "      <th>precip</th>\n",
       "      <th>precipprob</th>\n",
       "      <th>...</th>\n",
       "      <th>windspeed</th>\n",
       "      <th>winddir</th>\n",
       "      <th>sealevelpressure</th>\n",
       "      <th>cloudcover</th>\n",
       "      <th>visibility</th>\n",
       "      <th>solarradiation</th>\n",
       "      <th>solarenergy</th>\n",
       "      <th>uvindex</th>\n",
       "      <th>severerisk</th>\n",
       "      <th>moonphase</th>\n",
       "    </tr>\n",
       "  </thead>\n",
       "  <tbody>\n",
       "    <tr>\n",
       "      <th>0</th>\n",
       "      <td>30.0</td>\n",
       "      <td>11.6</td>\n",
       "      <td>21.5</td>\n",
       "      <td>28.1</td>\n",
       "      <td>11.6</td>\n",
       "      <td>21.0</td>\n",
       "      <td>1.9</td>\n",
       "      <td>31.9</td>\n",
       "      <td>0.000</td>\n",
       "      <td>0</td>\n",
       "      <td>...</td>\n",
       "      <td>13.1</td>\n",
       "      <td>348.4</td>\n",
       "      <td>1011.0</td>\n",
       "      <td>12.7</td>\n",
       "      <td>16.0</td>\n",
       "      <td>264.5</td>\n",
       "      <td>22.7</td>\n",
       "      <td>8</td>\n",
       "      <td>10</td>\n",
       "      <td>0.59</td>\n",
       "    </tr>\n",
       "    <tr>\n",
       "      <th>1</th>\n",
       "      <td>28.2</td>\n",
       "      <td>15.4</td>\n",
       "      <td>22.3</td>\n",
       "      <td>27.2</td>\n",
       "      <td>15.4</td>\n",
       "      <td>22.2</td>\n",
       "      <td>8.4</td>\n",
       "      <td>42.5</td>\n",
       "      <td>0.000</td>\n",
       "      <td>0</td>\n",
       "      <td>...</td>\n",
       "      <td>25.1</td>\n",
       "      <td>283.7</td>\n",
       "      <td>1008.3</td>\n",
       "      <td>77.8</td>\n",
       "      <td>13.4</td>\n",
       "      <td>226.7</td>\n",
       "      <td>19.5</td>\n",
       "      <td>7</td>\n",
       "      <td>10</td>\n",
       "      <td>0.59</td>\n",
       "    </tr>\n",
       "    <tr>\n",
       "      <th>2</th>\n",
       "      <td>31.1</td>\n",
       "      <td>16.6</td>\n",
       "      <td>23.2</td>\n",
       "      <td>29.8</td>\n",
       "      <td>16.6</td>\n",
       "      <td>23.0</td>\n",
       "      <td>13.7</td>\n",
       "      <td>58.3</td>\n",
       "      <td>0.592</td>\n",
       "      <td>100</td>\n",
       "      <td>...</td>\n",
       "      <td>16.5</td>\n",
       "      <td>32.8</td>\n",
       "      <td>1011.1</td>\n",
       "      <td>41.4</td>\n",
       "      <td>16.0</td>\n",
       "      <td>209.8</td>\n",
       "      <td>18.3</td>\n",
       "      <td>7</td>\n",
       "      <td>30</td>\n",
       "      <td>0.81</td>\n",
       "    </tr>\n",
       "    <tr>\n",
       "      <th>3</th>\n",
       "      <td>25.9</td>\n",
       "      <td>20.0</td>\n",
       "      <td>23.7</td>\n",
       "      <td>25.9</td>\n",
       "      <td>20.0</td>\n",
       "      <td>23.7</td>\n",
       "      <td>17.6</td>\n",
       "      <td>69.0</td>\n",
       "      <td>5.364</td>\n",
       "      <td>100</td>\n",
       "      <td>...</td>\n",
       "      <td>24.3</td>\n",
       "      <td>202.2</td>\n",
       "      <td>1005.0</td>\n",
       "      <td>86.9</td>\n",
       "      <td>15.5</td>\n",
       "      <td>101.6</td>\n",
       "      <td>8.6</td>\n",
       "      <td>3</td>\n",
       "      <td>30</td>\n",
       "      <td>0.80</td>\n",
       "    </tr>\n",
       "    <tr>\n",
       "      <th>4</th>\n",
       "      <td>31.1</td>\n",
       "      <td>16.6</td>\n",
       "      <td>23.2</td>\n",
       "      <td>29.8</td>\n",
       "      <td>16.6</td>\n",
       "      <td>23.0</td>\n",
       "      <td>13.7</td>\n",
       "      <td>58.3</td>\n",
       "      <td>0.592</td>\n",
       "      <td>100</td>\n",
       "      <td>...</td>\n",
       "      <td>16.5</td>\n",
       "      <td>32.8</td>\n",
       "      <td>1011.1</td>\n",
       "      <td>41.4</td>\n",
       "      <td>16.0</td>\n",
       "      <td>209.8</td>\n",
       "      <td>18.3</td>\n",
       "      <td>7</td>\n",
       "      <td>30</td>\n",
       "      <td>0.81</td>\n",
       "    </tr>\n",
       "  </tbody>\n",
       "</table>\n",
       "<p>5 rows × 24 columns</p>\n",
       "</div>"
      ],
      "text/plain": [
       "   tempmax  tempmin  temp  feelslikemax  feelslikemin  feelslike   dew  \\\n",
       "0     30.0     11.6  21.5          28.1          11.6       21.0   1.9   \n",
       "1     28.2     15.4  22.3          27.2          15.4       22.2   8.4   \n",
       "2     31.1     16.6  23.2          29.8          16.6       23.0  13.7   \n",
       "3     25.9     20.0  23.7          25.9          20.0       23.7  17.6   \n",
       "4     31.1     16.6  23.2          29.8          16.6       23.0  13.7   \n",
       "\n",
       "   humidity  precip  precipprob  ...  windspeed  winddir  sealevelpressure  \\\n",
       "0      31.9   0.000           0  ...       13.1    348.4            1011.0   \n",
       "1      42.5   0.000           0  ...       25.1    283.7            1008.3   \n",
       "2      58.3   0.592         100  ...       16.5     32.8            1011.1   \n",
       "3      69.0   5.364         100  ...       24.3    202.2            1005.0   \n",
       "4      58.3   0.592         100  ...       16.5     32.8            1011.1   \n",
       "\n",
       "   cloudcover  visibility  solarradiation  solarenergy  uvindex  severerisk  \\\n",
       "0        12.7        16.0           264.5         22.7        8          10   \n",
       "1        77.8        13.4           226.7         19.5        7          10   \n",
       "2        41.4        16.0           209.8         18.3        7          30   \n",
       "3        86.9        15.5           101.6          8.6        3          30   \n",
       "4        41.4        16.0           209.8         18.3        7          30   \n",
       "\n",
       "   moonphase  \n",
       "0       0.59  \n",
       "1       0.59  \n",
       "2       0.81  \n",
       "3       0.80  \n",
       "4       0.81  \n",
       "\n",
       "[5 rows x 24 columns]"
      ]
     },
     "execution_count": 197,
     "metadata": {},
     "output_type": "execute_result"
    }
   ],
   "source": [
    "x = merged_dataset.drop(columns=['track_id','playlist_id','date','danceability','energy','key','loudness','mode','speechiness','acousticness','instrumentalness','liveness','valence','tempo','id','duration_ms','time_signature','neg','neu','pos','compound','name','conditions','description','icon','stations','preciptype','sunrise','sunset'])\n",
    "y = merged_dataset['energy']\n",
    "\n",
    "x.to_csv('cleaned.csv', index=False)\n",
    "x.head()"
   ]
  },
  {
   "cell_type": "code",
   "execution_count": 198,
   "metadata": {},
   "outputs": [],
   "source": [
    "from sklearn.model_selection import train_test_split\n",
    "x_train, x_test, y_train, y_test = train_test_split(x, y, test_size=0.2)"
   ]
  },
  {
   "cell_type": "code",
   "execution_count": 199,
   "metadata": {},
   "outputs": [],
   "source": [
    "import tensorflow.keras as keras\n",
    "model = keras.Sequential()"
   ]
  },
  {
   "cell_type": "code",
   "execution_count": 200,
   "metadata": {},
   "outputs": [],
   "source": [
    "model.add(keras.layers.Dense(256, input_shape=x_train.shape[1:], activation = 'sigmoid'))\n",
    "model.add(keras.layers.Dense(256, activation='sigmoid'))\n",
    "model.add(keras.layers.Dense(1, activation='sigmoid'))"
   ]
  },
  {
   "cell_type": "code",
   "execution_count": 201,
   "metadata": {},
   "outputs": [],
   "source": [
    "model.compile(optimizer='adam', loss='binary_crossentropy', metrics=['accuracy'])"
   ]
  },
  {
   "cell_type": "code",
   "execution_count": 202,
   "metadata": {},
   "outputs": [
    {
     "name": "stdout",
     "output_type": "stream",
     "text": [
      "Epoch 1/10\n",
      "17/17 [==============================] - 0s 1ms/step - loss: 0.7001 - accuracy: 0.0000e+00\n",
      "Epoch 2/10\n",
      "17/17 [==============================] - 0s 1ms/step - loss: 0.6902 - accuracy: 0.0000e+00\n",
      "Epoch 3/10\n",
      "17/17 [==============================] - 0s 1ms/step - loss: 0.6929 - accuracy: 0.0000e+00\n",
      "Epoch 4/10\n",
      "17/17 [==============================] - 0s 1ms/step - loss: 0.6922 - accuracy: 0.0000e+00\n",
      "Epoch 5/10\n",
      "17/17 [==============================] - 0s 1ms/step - loss: 0.6906 - accuracy: 0.0000e+00\n",
      "Epoch 6/10\n",
      "17/17 [==============================] - 0s 1ms/step - loss: 0.6873 - accuracy: 0.0000e+00\n",
      "Epoch 7/10\n",
      "17/17 [==============================] - 0s 1ms/step - loss: 0.6877 - accuracy: 0.0000e+00\n",
      "Epoch 8/10\n",
      "17/17 [==============================] - 0s 1ms/step - loss: 0.6898 - accuracy: 0.0000e+00\n",
      "Epoch 9/10\n",
      "17/17 [==============================] - 0s 1ms/step - loss: 0.6883 - accuracy: 0.0000e+00\n",
      "Epoch 10/10\n",
      "17/17 [==============================] - 0s 1ms/step - loss: 0.6914 - accuracy: 0.0000e+00\n"
     ]
    },
    {
     "data": {
      "text/plain": [
       "<keras.src.callbacks.History at 0x12f60ab7c10>"
      ]
     },
     "execution_count": 202,
     "metadata": {},
     "output_type": "execute_result"
    }
   ],
   "source": [
    "model.fit(x_train,y_train,epochs=10)"
   ]
  },
  {
   "cell_type": "code",
   "execution_count": 191,
   "metadata": {},
   "outputs": [
    {
     "name": "stdout",
     "output_type": "stream",
     "text": [
      "5/5 [==============================] - 0s 1ms/step - loss: 0.6990 - accuracy: 0.0000e+00\n",
      "Loss: 0.70, Accuracy: 0.00\n"
     ]
    }
   ],
   "source": [
    "loss, accuracy = model.evaluate(x_test, y_test)\n",
    "print(f\"Loss: {loss:.2f}, Accuracy: {accuracy:.2f}\")"
   ]
  }
 ],
 "metadata": {
  "kernelspec": {
   "display_name": "datascience",
   "language": "python",
   "name": "python3"
  },
  "language_info": {
   "codemirror_mode": {
    "name": "ipython",
    "version": 3
   },
   "file_extension": ".py",
   "mimetype": "text/x-python",
   "name": "python",
   "nbconvert_exporter": "python",
   "pygments_lexer": "ipython3",
   "version": "3.10.13"
  },
  "orig_nbformat": 4
 },
 "nbformat": 4,
 "nbformat_minor": 2
}
