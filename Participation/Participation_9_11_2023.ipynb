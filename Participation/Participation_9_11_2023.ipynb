{
  "nbformat": 4,
  "nbformat_minor": 0,
  "metadata": {
    "colab": {
      "provenance": [],
      "authorship_tag": "ABX9TyNaKMfCJGKx9gOFSrP+xiKk",
      "include_colab_link": true
    },
    "kernelspec": {
      "name": "python3",
      "display_name": "Python 3"
    },
    "language_info": {
      "name": "python"
    }
  },
  "cells": [
    {
      "cell_type": "markdown",
      "metadata": {
        "id": "view-in-github",
        "colab_type": "text"
      },
      "source": [
        "<a href=\"https://colab.research.google.com/github/Macbee280/CPSC222/blob/main/Participation/Participation_9_11_2023.ipynb\" target=\"_parent\"><img src=\"https://colab.research.google.com/assets/colab-badge.svg\" alt=\"Open In Colab\"/></a>"
      ]
    },
    {
      "cell_type": "code",
      "execution_count": 5,
      "metadata": {
        "colab": {
          "base_uri": "https://localhost:8080/"
        },
        "id": "TYoqQ7rgKBQS",
        "outputId": "9d4368cf-dc66-4158-b552-fbd78954dfab"
      },
      "outputs": [
        {
          "output_type": "stream",
          "name": "stdout",
          "text": [
            "How long were you traveling in seconds? 5\n",
            "The distance you traveled in 5 seconds is 930000 miles.\n"
          ]
        }
      ],
      "source": [
        "from re import S\n",
        "print(\"Welcome to the speed of light calculation.\")\n",
        "time = input(\"How long were you traveling in seconds? \")\n",
        "speedOfLight = 186000\n",
        "\n",
        "print(\"The distance you traveled in %d seconds is %d miles.\" %(int(time), speedOfLight * int(time)))"
      ]
    }
  ]
}