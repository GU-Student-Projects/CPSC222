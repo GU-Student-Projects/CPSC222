{
 "cells": [
  {
   "cell_type": "code",
   "execution_count": 41,
   "metadata": {},
   "outputs": [],
   "source": [
    "import random\n",
    "import numpy as np"
   ]
  },
  {
   "cell_type": "code",
   "execution_count": 42,
   "metadata": {},
   "outputs": [
    {
     "name": "stdout",
     "output_type": "stream",
     "text": [
      "[3 3 1 7 1 0 8 1 8 3 5 8 2 4 8 2 2 4 8 4]\n"
     ]
    }
   ],
   "source": [
    "list = np.random.randint(0,10,20)\n",
    "\n",
    "print(list)"
   ]
  },
  {
   "cell_type": "code",
   "execution_count": 43,
   "metadata": {},
   "outputs": [
    {
     "name": "stdout",
     "output_type": "stream",
     "text": [
      "[0 1 1 1 2 2 2 3 3 3 4 4 4 5 7 8 8 8 8 8]\n",
      "Smallest value is: 0, and the largest value is: 8\n"
     ]
    }
   ],
   "source": [
    "list.sort()\n",
    "print(list)\n",
    "\n",
    "print(f\"Smallest value is: {list[0]}, and the largest value is: {list[-1]}\")"
   ]
  },
  {
   "cell_type": "code",
   "execution_count": 50,
   "metadata": {},
   "outputs": [
    {
     "name": "stdout",
     "output_type": "stream",
     "text": [
      "[0 1 1 1 2 2 2 3 3 3 4 4 4 5 7 8 8 8 8 8]\n",
      "The value 3 was found 0 times.\n"
     ]
    }
   ],
   "source": [
    "user_input = input(\"User Input: \")\n",
    "count = 0\n",
    "print(list)\n",
    "for index in list:\n",
    "    if user_input == list[index]:\n",
    "        print(\"test\")\n",
    "        count += 1\n",
    "print(f\"The value {user_input} was found {count} times.\")\n"
   ]
  }
 ],
 "metadata": {
  "kernelspec": {
   "display_name": "datascience",
   "language": "python",
   "name": "python3"
  },
  "language_info": {
   "codemirror_mode": {
    "name": "ipython",
    "version": 3
   },
   "file_extension": ".py",
   "mimetype": "text/x-python",
   "name": "python",
   "nbconvert_exporter": "python",
   "pygments_lexer": "ipython3",
   "version": "3.10.13"
  },
  "orig_nbformat": 4
 },
 "nbformat": 4,
 "nbformat_minor": 2
}
