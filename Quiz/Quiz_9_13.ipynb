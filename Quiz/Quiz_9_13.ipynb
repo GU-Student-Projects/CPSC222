{
  "nbformat": 4,
  "nbformat_minor": 0,
  "metadata": {
    "colab": {
      "provenance": [],
      "authorship_tag": "ABX9TyMi1mItAl5ozkBvNPCIR/bC",
      "include_colab_link": true
    },
    "kernelspec": {
      "name": "python3",
      "display_name": "Python 3"
    },
    "language_info": {
      "name": "python"
    }
  },
  "cells": [
    {
      "cell_type": "markdown",
      "metadata": {
        "id": "view-in-github",
        "colab_type": "text"
      },
      "source": [
        "<a href=\"https://colab.research.google.com/github/Macbee280/CPSC222/blob/main/Quiz/Quiz_9_13.ipynb\" target=\"_parent\"><img src=\"https://colab.research.google.com/assets/colab-badge.svg\" alt=\"Open In Colab\"/></a>"
      ]
    },
    {
      "cell_type": "code",
      "execution_count": 14,
      "metadata": {
        "colab": {
          "base_uri": "https://localhost:8080/"
        },
        "id": "DURdZH5SZAjM",
        "outputId": "6dcc2ed9-47fc-45f0-a841-19cd1747b5bf"
      },
      "outputs": [
        {
          "output_type": "stream",
          "name": "stdout",
          "text": [
            "Welcome to the Quadratic Equation Calculator\n",
            "A: 2\n",
            "B: 2\n",
            "C: 2\n",
            "The roots are complex\n"
          ]
        }
      ],
      "source": [
        "import math\n",
        "\n",
        "def quadratic_equation(a,b,c):\n",
        "  underTheRadical = (b**2)-(4*a*c)\n",
        "\n",
        "  if underTheRadical  < 0:\n",
        "    print(\"The roots are complex\")\n",
        "  else:\n",
        "    denominator = 2*a\n",
        "    plusB = ((-b) + math.sqrt(underTheRadical))/denominator\n",
        "    minusB = ((-b) - math.sqrt(underTheRadical))/denominator\n",
        "\n",
        "    return plusB, minusB\n",
        "    print(f\"The roots are {plusB/denominator} and {minusB/denominator}\")\n",
        "\n",
        "print(\"Welcome to the Quadratic Equation Calculator\")\n",
        "a = float(input(\"A: \"))\n",
        "b= float(input(\"B: \"))\n",
        "c = float(input(\"C: \"))\n",
        "roots = quadratic_equation(a,b,c)\n",
        "if roots != None:\n",
        "  print(f\"The roots are {roots[0]} and {roots[1]}\")"
      ]
    },
    {
      "cell_type": "markdown",
      "source": [
        "How can you access the first element from a functions return value, and how can you access the second element? By selecting the index of the array returned from a function. For example return roots will give an array [1,2] then in the main function select the index roots[0] and roots[1] to access each element."
      ],
      "metadata": {
        "id": "DlK99ZGldO2w"
      }
    },
    {
      "cell_type": "code",
      "source": [
        "def listChecker(list1, list2):\n",
        "\n",
        "  if len(list1) == 0 or len(list2)==0:\n",
        "    return [False,False]\n",
        "\n",
        "  if list1[0] == list2[0]:\n",
        "    type1 = True\n",
        "  else: type1 = False\n",
        "\n",
        "  if list1[-1] == list2[-1]:\n",
        "    type2 = True\n",
        "  else: type2 = False\n",
        "\n",
        "  return type1, type2\n",
        "\n",
        "list1 = [1,2]\n",
        "list2 = [1,2]\n",
        "\n",
        "final = listChecker(list1,list2)\n",
        "print(final)\n"
      ],
      "metadata": {
        "colab": {
          "base_uri": "https://localhost:8080/"
        },
        "id": "fQIfMxGSfjZd",
        "outputId": "bc588d0d-5199-4814-8949-b71845adbef7"
      },
      "execution_count": 22,
      "outputs": [
        {
          "output_type": "stream",
          "name": "stdout",
          "text": [
            "(True, True)\n"
          ]
        }
      ]
    },
    {
      "cell_type": "markdown",
      "source": [
        "How does python return multiple items from a function? Can you extract a specific return value? Python returns multiple items as an array. You can extract a specific value by calling the array index of the desired element."
      ],
      "metadata": {
        "id": "3JANTPjlhm8H"
      }
    }
  ]
}